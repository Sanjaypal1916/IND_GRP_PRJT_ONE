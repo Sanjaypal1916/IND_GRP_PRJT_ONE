{
 "cells": [
  {
   "cell_type": "code",
   "execution_count": 2,
   "id": "6129b83b",
   "metadata": {},
   "outputs": [],
   "source": [
    "import os\n",
    "from dataclasses import dataclass\n",
    "from pathlib import Path"
   ]
  },
  {
   "cell_type": "code",
   "execution_count": 3,
   "id": "48f9d13d",
   "metadata": {},
   "outputs": [],
   "source": [
    "\n",
    "@dataclass\n",
    "class dataIngestionConfig:\n",
    "    root_dir: Path\n",
    "    source_url : str\n",
    "    local_data_dir: Path\n",
    "    unzip_data_dir: Path\n"
   ]
  },
  {
   "cell_type": "code",
   "execution_count": 4,
   "id": "c8f0b879",
   "metadata": {},
   "outputs": [
    {
     "data": {
      "text/plain": [
       "'c:\\\\Users\\\\sanjay\\\\Desktop\\\\AI ML\\\\ML-Projects\\\\IND_GRD_PROJECT_ONE\\\\research'"
      ]
     },
     "execution_count": 4,
     "metadata": {},
     "output_type": "execute_result"
    }
   ],
   "source": [
    "%pwd"
   ]
  },
  {
   "cell_type": "code",
   "execution_count": 5,
   "id": "2066209b",
   "metadata": {},
   "outputs": [
    {
     "data": {
      "text/plain": [
       "'c:\\\\Users\\\\sanjay\\\\Desktop\\\\AI ML\\\\ML-Projects\\\\IND_GRD_PROJECT_ONE'"
      ]
     },
     "execution_count": 5,
     "metadata": {},
     "output_type": "execute_result"
    }
   ],
   "source": [
    "os.chdir(\"../\")\n",
    "%pwd\n"
   ]
  },
  {
   "cell_type": "code",
   "execution_count": 30,
   "id": "4f3eed11",
   "metadata": {},
   "outputs": [],
   "source": [
    "import sys\n",
    "sys.path.append(\"c:/Users/sanjay/Desktop/AI ML/ML-Projects/IND_GRD_PROJECT_ONE/src\")"
   ]
  },
  {
   "cell_type": "code",
   "execution_count": 31,
   "id": "e6ed789b",
   "metadata": {},
   "outputs": [],
   "source": [
    "from DataScience.constants import CONFIG_FILE_PATH, PARAMS_FILE_PATH, SCHEMA_FILE_PATH\n",
    "from DataScience.utils.commons import read_yaml, create_directory\n"
   ]
  },
  {
   "cell_type": "code",
   "execution_count": null,
   "id": "2fd39031",
   "metadata": {},
   "outputs": [],
   "source": [
    "class configurationmanager:\n",
    "    def __init__(self,  \n",
    "                config_filepath= CONFIG_FILE_PATH, \n",
    "                params_filepath = PARAMS_FILE_PATH, \n",
    "                schema_filepath = SCHEMA_FILE_PATH):\n",
    "\n",
    "        self.config = read_yaml(config_filepath) \n",
    "        self.params =  read_yaml(params_filepath)\n",
    "        self.schema = read_yaml(schema_filepath)\n",
    "\n",
    "        create_directory([self.config.artifacts_root])\n",
    "\n",
    "\n",
    "    def get_data_ingestion_config(self) -> dataIngestionConfig:\n",
    "        config = self.config.data_ingestion\n",
    "        create_directory([config.root_dir])\n",
    "\n",
    "        data_ingestion_config = dataIngestionConfig(\n",
    "            root_dir = config.root_dir, \n",
    "            source_url= config.source_url,  \n",
    "            local_data_dir = config.local_data_dir, \n",
    "            unzip_data_dir = config.unzip_data_dir\n",
    "        )\n",
    "\n",
    "        return data_ingestion_config\n"
   ]
  },
  {
   "cell_type": "code",
   "execution_count": 37,
   "id": "ba92cd20",
   "metadata": {},
   "outputs": [],
   "source": [
    "import os\n",
    "import urllib.request as request\n",
    "import zipfile"
   ]
  },
  {
   "cell_type": "code",
   "execution_count": 38,
   "id": "941a04b0",
   "metadata": {},
   "outputs": [],
   "source": [
    "class data_ingestion:\n",
    "    def __init__(self, config):\n",
    "        self.config = config\n",
    "\n",
    "    def download_file(self):\n",
    "        if not os.path.exists(self.config.local_data_dir):\n",
    "            filename , header = request.urlretrieve( filename = self.config.local_data_dir, url = self.config.source_url)\n",
    "            print(\"file downloaded\")\n",
    "        else:\n",
    "            print(\"file already exists\")\n",
    "\n",
    "\n",
    "    def unzip_file(self):\n",
    "\n",
    "        os.makedirs(self.config.unzip_data_dir, exist_ok=True)\n",
    "        with zipfile.ZipFile(self.config.local_data_dir, \"r\") as f:\n",
    "            f.extractall(self.config.unzip_data_dir)\n",
    "        print(\"unzipped the file \")\n"
   ]
  },
  {
   "cell_type": "code",
   "execution_count": 39,
   "id": "82d2bc64",
   "metadata": {},
   "outputs": [
    {
     "name": "stdout",
     "output_type": "stream",
     "text": [
      "yaml file: config\\config.yaml loaded\n",
      "yaml file: params.yaml loaded\n",
      "yaml file: params.yaml loaded\n",
      "created directory at : artifacts\n",
      "created directory at : artifacts/data_ingestion\n",
      "file downloaded\n",
      "unzipped the file \n"
     ]
    }
   ],
   "source": [
    "try:\n",
    "    config = configurationmanager()\n",
    "    data_ingestion_config = config.get_data_ingestion_config()\n",
    "    data_ingestion = data_ingestion(config = data_ingestion_config)\n",
    "    data_ingestion.download_file()\n",
    "    data_ingestion.unzip_file()\n",
    "except Exception as e :\n",
    "    raise e"
   ]
  },
  {
   "cell_type": "code",
   "execution_count": null,
   "id": "72de8148",
   "metadata": {},
   "outputs": [],
   "source": []
  },
  {
   "cell_type": "code",
   "execution_count": null,
   "id": "8cc4ce50",
   "metadata": {},
   "outputs": [],
   "source": []
  }
 ],
 "metadata": {
  "kernelspec": {
   "display_name": "venv",
   "language": "python",
   "name": "python3"
  },
  "language_info": {
   "codemirror_mode": {
    "name": "ipython",
    "version": 3
   },
   "file_extension": ".py",
   "mimetype": "text/x-python",
   "name": "python",
   "nbconvert_exporter": "python",
   "pygments_lexer": "ipython3",
   "version": "3.10.0"
  }
 },
 "nbformat": 4,
 "nbformat_minor": 5
}
